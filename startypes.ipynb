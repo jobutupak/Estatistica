{
  "nbformat": 4,
  "nbformat_minor": 0,
  "metadata": {
    "colab": {
      "provenance": [],
      "include_colab_link": true
    },
    "kernelspec": {
      "name": "python3",
      "display_name": "Python 3"
    },
    "language_info": {
      "name": "python"
    }
  },
  "cells": [
    {
      "cell_type": "markdown",
      "metadata": {
        "id": "view-in-github",
        "colab_type": "text"
      },
      "source": [
        "<a href=\"https://colab.research.google.com/github/jobutupak/Estatistica/blob/main/startypes.ipynb\" target=\"_parent\"><img src=\"https://colab.research.google.com/assets/colab-badge.svg\" alt=\"Open In Colab\"/></a>"
      ]
    },
    {
      "cell_type": "code",
      "execution_count": null,
      "metadata": {
        "id": "eaVfMmQj5-hn"
      },
      "outputs": [],
      "source": [
        "import pandas as pd\n",
        "import numpy as np\n",
        "import seaborn as sns\n",
        "import matplotlib.pyplot as plt\n",
        "import plotly.express as px\n",
        "import math"
      ]
    },
    {
      "cell_type": "code",
      "source": [
        "base_stars = pd.read_csv('/content/Estrelas csv - 6 class csv (4).csv')"
      ],
      "metadata": {
        "id": "sfcQdoYlDMcj"
      },
      "execution_count": null,
      "outputs": []
    },
    {
      "cell_type": "code",
      "source": [
        "base_stars_ord = base_stars.sort_values(['Id'], ascending=True)"
      ],
      "metadata": {
        "id": "HJGPn-D2Dh2F"
      },
      "execution_count": null,
      "outputs": []
    },
    {
      "cell_type": "code",
      "source": [
        "base_stars_ord"
      ],
      "metadata": {
        "id": "JGAgnkhvD17W",
        "colab": {
          "base_uri": "https://localhost:8080/",
          "height": 423
        },
        "outputId": "e6f6b223-dc50-425f-a11a-ce6794ecb9fa"
      },
      "execution_count": null,
      "outputs": [
        {
          "output_type": "execute_result",
          "data": {
            "text/plain": [
              "      Id  Temperature (K)  Star type Star type (name) Star color  \\\n",
              "0      1             3068          0      Brown Dwarf        Red   \n",
              "1      2             3042          0      Brown Dwarf        Red   \n",
              "2      3             2600          0      Brown Dwarf        Red   \n",
              "3      4             2800          0      Brown Dwarf        Red   \n",
              "4      5             1939          0      Brown Dwarf        Red   \n",
              "..   ...              ...        ...              ...        ...   \n",
              "235  236            38940          5       Hypergiant       Blue   \n",
              "236  237            30839          5       Hypergiant       Blue   \n",
              "237  238             8829          5       Hypergiant      White   \n",
              "238  239             9235          5       Hypergiant      White   \n",
              "239  240            37882          5       Hypergiant       Blue   \n",
              "\n",
              "    Spectral Class  \n",
              "0                M  \n",
              "1                M  \n",
              "2                M  \n",
              "3                M  \n",
              "4                M  \n",
              "..             ...  \n",
              "235              O  \n",
              "236              O  \n",
              "237              A  \n",
              "238              A  \n",
              "239              O  \n",
              "\n",
              "[240 rows x 6 columns]"
            ],
            "text/html": [
              "\n",
              "  <div id=\"df-78a1be2f-cede-4b32-bcd2-f676badf71af\">\n",
              "    <div class=\"colab-df-container\">\n",
              "      <div>\n",
              "<style scoped>\n",
              "    .dataframe tbody tr th:only-of-type {\n",
              "        vertical-align: middle;\n",
              "    }\n",
              "\n",
              "    .dataframe tbody tr th {\n",
              "        vertical-align: top;\n",
              "    }\n",
              "\n",
              "    .dataframe thead th {\n",
              "        text-align: right;\n",
              "    }\n",
              "</style>\n",
              "<table border=\"1\" class=\"dataframe\">\n",
              "  <thead>\n",
              "    <tr style=\"text-align: right;\">\n",
              "      <th></th>\n",
              "      <th>Id</th>\n",
              "      <th>Temperature (K)</th>\n",
              "      <th>Star type</th>\n",
              "      <th>Star type (name)</th>\n",
              "      <th>Star color</th>\n",
              "      <th>Spectral Class</th>\n",
              "    </tr>\n",
              "  </thead>\n",
              "  <tbody>\n",
              "    <tr>\n",
              "      <th>0</th>\n",
              "      <td>1</td>\n",
              "      <td>3068</td>\n",
              "      <td>0</td>\n",
              "      <td>Brown Dwarf</td>\n",
              "      <td>Red</td>\n",
              "      <td>M</td>\n",
              "    </tr>\n",
              "    <tr>\n",
              "      <th>1</th>\n",
              "      <td>2</td>\n",
              "      <td>3042</td>\n",
              "      <td>0</td>\n",
              "      <td>Brown Dwarf</td>\n",
              "      <td>Red</td>\n",
              "      <td>M</td>\n",
              "    </tr>\n",
              "    <tr>\n",
              "      <th>2</th>\n",
              "      <td>3</td>\n",
              "      <td>2600</td>\n",
              "      <td>0</td>\n",
              "      <td>Brown Dwarf</td>\n",
              "      <td>Red</td>\n",
              "      <td>M</td>\n",
              "    </tr>\n",
              "    <tr>\n",
              "      <th>3</th>\n",
              "      <td>4</td>\n",
              "      <td>2800</td>\n",
              "      <td>0</td>\n",
              "      <td>Brown Dwarf</td>\n",
              "      <td>Red</td>\n",
              "      <td>M</td>\n",
              "    </tr>\n",
              "    <tr>\n",
              "      <th>4</th>\n",
              "      <td>5</td>\n",
              "      <td>1939</td>\n",
              "      <td>0</td>\n",
              "      <td>Brown Dwarf</td>\n",
              "      <td>Red</td>\n",
              "      <td>M</td>\n",
              "    </tr>\n",
              "    <tr>\n",
              "      <th>...</th>\n",
              "      <td>...</td>\n",
              "      <td>...</td>\n",
              "      <td>...</td>\n",
              "      <td>...</td>\n",
              "      <td>...</td>\n",
              "      <td>...</td>\n",
              "    </tr>\n",
              "    <tr>\n",
              "      <th>235</th>\n",
              "      <td>236</td>\n",
              "      <td>38940</td>\n",
              "      <td>5</td>\n",
              "      <td>Hypergiant</td>\n",
              "      <td>Blue</td>\n",
              "      <td>O</td>\n",
              "    </tr>\n",
              "    <tr>\n",
              "      <th>236</th>\n",
              "      <td>237</td>\n",
              "      <td>30839</td>\n",
              "      <td>5</td>\n",
              "      <td>Hypergiant</td>\n",
              "      <td>Blue</td>\n",
              "      <td>O</td>\n",
              "    </tr>\n",
              "    <tr>\n",
              "      <th>237</th>\n",
              "      <td>238</td>\n",
              "      <td>8829</td>\n",
              "      <td>5</td>\n",
              "      <td>Hypergiant</td>\n",
              "      <td>White</td>\n",
              "      <td>A</td>\n",
              "    </tr>\n",
              "    <tr>\n",
              "      <th>238</th>\n",
              "      <td>239</td>\n",
              "      <td>9235</td>\n",
              "      <td>5</td>\n",
              "      <td>Hypergiant</td>\n",
              "      <td>White</td>\n",
              "      <td>A</td>\n",
              "    </tr>\n",
              "    <tr>\n",
              "      <th>239</th>\n",
              "      <td>240</td>\n",
              "      <td>37882</td>\n",
              "      <td>5</td>\n",
              "      <td>Hypergiant</td>\n",
              "      <td>Blue</td>\n",
              "      <td>O</td>\n",
              "    </tr>\n",
              "  </tbody>\n",
              "</table>\n",
              "<p>240 rows × 6 columns</p>\n",
              "</div>\n",
              "      <button class=\"colab-df-convert\" onclick=\"convertToInteractive('df-78a1be2f-cede-4b32-bcd2-f676badf71af')\"\n",
              "              title=\"Convert this dataframe to an interactive table.\"\n",
              "              style=\"display:none;\">\n",
              "        \n",
              "  <svg xmlns=\"http://www.w3.org/2000/svg\" height=\"24px\"viewBox=\"0 0 24 24\"\n",
              "       width=\"24px\">\n",
              "    <path d=\"M0 0h24v24H0V0z\" fill=\"none\"/>\n",
              "    <path d=\"M18.56 5.44l.94 2.06.94-2.06 2.06-.94-2.06-.94-.94-2.06-.94 2.06-2.06.94zm-11 1L8.5 8.5l.94-2.06 2.06-.94-2.06-.94L8.5 2.5l-.94 2.06-2.06.94zm10 10l.94 2.06.94-2.06 2.06-.94-2.06-.94-.94-2.06-.94 2.06-2.06.94z\"/><path d=\"M17.41 7.96l-1.37-1.37c-.4-.4-.92-.59-1.43-.59-.52 0-1.04.2-1.43.59L10.3 9.45l-7.72 7.72c-.78.78-.78 2.05 0 2.83L4 21.41c.39.39.9.59 1.41.59.51 0 1.02-.2 1.41-.59l7.78-7.78 2.81-2.81c.8-.78.8-2.07 0-2.86zM5.41 20L4 18.59l7.72-7.72 1.47 1.35L5.41 20z\"/>\n",
              "  </svg>\n",
              "      </button>\n",
              "      \n",
              "  <style>\n",
              "    .colab-df-container {\n",
              "      display:flex;\n",
              "      flex-wrap:wrap;\n",
              "      gap: 12px;\n",
              "    }\n",
              "\n",
              "    .colab-df-convert {\n",
              "      background-color: #E8F0FE;\n",
              "      border: none;\n",
              "      border-radius: 50%;\n",
              "      cursor: pointer;\n",
              "      display: none;\n",
              "      fill: #1967D2;\n",
              "      height: 32px;\n",
              "      padding: 0 0 0 0;\n",
              "      width: 32px;\n",
              "    }\n",
              "\n",
              "    .colab-df-convert:hover {\n",
              "      background-color: #E2EBFA;\n",
              "      box-shadow: 0px 1px 2px rgba(60, 64, 67, 0.3), 0px 1px 3px 1px rgba(60, 64, 67, 0.15);\n",
              "      fill: #174EA6;\n",
              "    }\n",
              "\n",
              "    [theme=dark] .colab-df-convert {\n",
              "      background-color: #3B4455;\n",
              "      fill: #D2E3FC;\n",
              "    }\n",
              "\n",
              "    [theme=dark] .colab-df-convert:hover {\n",
              "      background-color: #434B5C;\n",
              "      box-shadow: 0px 1px 3px 1px rgba(0, 0, 0, 0.15);\n",
              "      filter: drop-shadow(0px 1px 2px rgba(0, 0, 0, 0.3));\n",
              "      fill: #FFFFFF;\n",
              "    }\n",
              "  </style>\n",
              "\n",
              "      <script>\n",
              "        const buttonEl =\n",
              "          document.querySelector('#df-78a1be2f-cede-4b32-bcd2-f676badf71af button.colab-df-convert');\n",
              "        buttonEl.style.display =\n",
              "          google.colab.kernel.accessAllowed ? 'block' : 'none';\n",
              "\n",
              "        async function convertToInteractive(key) {\n",
              "          const element = document.querySelector('#df-78a1be2f-cede-4b32-bcd2-f676badf71af');\n",
              "          const dataTable =\n",
              "            await google.colab.kernel.invokeFunction('convertToInteractive',\n",
              "                                                     [key], {});\n",
              "          if (!dataTable) return;\n",
              "\n",
              "          const docLinkHtml = 'Like what you see? Visit the ' +\n",
              "            '<a target=\"_blank\" href=https://colab.research.google.com/notebooks/data_table.ipynb>data table notebook</a>'\n",
              "            + ' to learn more about interactive tables.';\n",
              "          element.innerHTML = '';\n",
              "          dataTable['output_type'] = 'display_data';\n",
              "          await google.colab.output.renderOutput(dataTable, element);\n",
              "          const docLink = document.createElement('div');\n",
              "          docLink.innerHTML = docLinkHtml;\n",
              "          element.appendChild(docLink);\n",
              "        }\n",
              "      </script>\n",
              "    </div>\n",
              "  </div>\n",
              "  "
            ]
          },
          "metadata": {},
          "execution_count": 4
        }
      ]
    },
    {
      "cell_type": "code",
      "source": [
        "def calc_moda(nome_data_frame, col_dados):\n",
        "  base_dados = pd.read_csv(nome_data_frame)\n",
        "  moda = (base_dados[col_dados].value_counts().keys())[0]\n",
        "\n",
        "  return moda\n",
        "\n",
        "moda = calc_moda('/content/Estrelas csv - 6 class csv (4).csv', 'Star color')\n",
        "moda"
      ],
      "metadata": {
        "id": "YvzoLLSUFipt",
        "colab": {
          "base_uri": "https://localhost:8080/",
          "height": 36
        },
        "outputId": "f62e1aa4-d6e3-412d-b74d-5fbf7cd727b7"
      },
      "execution_count": null,
      "outputs": [
        {
          "output_type": "execute_result",
          "data": {
            "text/plain": [
              "'Red'"
            ],
            "application/vnd.google.colaboratory.intrinsic+json": {
              "type": "string"
            }
          },
          "metadata": {},
          "execution_count": 5
        }
      ]
    },
    {
      "cell_type": "markdown",
      "source": [
        "# Construindo a tabela de frequências"
      ],
      "metadata": {
        "id": "B13PmSQKF08B"
      }
    },
    {
      "cell_type": "code",
      "source": [
        "classes = ['Red', 'Blue White', 'White', 'Yellow White', 'Blue', 'Orange']"
      ],
      "metadata": {
        "id": "3rMzO00eF5Cm"
      },
      "execution_count": null,
      "outputs": []
    },
    {
      "cell_type": "code",
      "source": [
        "valores_classes = []\n",
        "\n",
        "for nome_classe in classes:\n",
        "  valores = base_stars_ord[base_stars_ord['Star color'] == nome_classe]['Star color']\n",
        "  valores_classes.append(list(valores))\n",
        "\n",
        "valores_classes\n"
      ],
      "metadata": {
        "id": "fiu-sQ_DHRoR",
        "colab": {
          "base_uri": "https://localhost:8080/"
        },
        "outputId": "ff55fa06-e07f-433b-8752-1e66b076c5d6"
      },
      "execution_count": null,
      "outputs": [
        {
          "output_type": "execute_result",
          "data": {
            "text/plain": [
              "[['Red',\n",
              "  'Red',\n",
              "  'Red',\n",
              "  'Red',\n",
              "  'Red',\n",
              "  'Red',\n",
              "  'Red',\n",
              "  'Red',\n",
              "  'Red',\n",
              "  'Red',\n",
              "  'Red',\n",
              "  'Red',\n",
              "  'Red',\n",
              "  'Red',\n",
              "  'Red',\n",
              "  'Red',\n",
              "  'Red',\n",
              "  'Red',\n",
              "  'Red',\n",
              "  'Red',\n",
              "  'Red',\n",
              "  'Red',\n",
              "  'Red',\n",
              "  'Red',\n",
              "  'Red',\n",
              "  'Red',\n",
              "  'Red',\n",
              "  'Red',\n",
              "  'Red',\n",
              "  'Red',\n",
              "  'Red',\n",
              "  'Red',\n",
              "  'Red',\n",
              "  'Red',\n",
              "  'Red',\n",
              "  'Red',\n",
              "  'Red',\n",
              "  'Red',\n",
              "  'Red',\n",
              "  'Red',\n",
              "  'Red',\n",
              "  'Red',\n",
              "  'Red',\n",
              "  'Red',\n",
              "  'Red',\n",
              "  'Red',\n",
              "  'Red',\n",
              "  'Red',\n",
              "  'Red',\n",
              "  'Red',\n",
              "  'Red',\n",
              "  'Red',\n",
              "  'Red',\n",
              "  'Red',\n",
              "  'Red',\n",
              "  'Red',\n",
              "  'Red',\n",
              "  'Red',\n",
              "  'Red',\n",
              "  'Red',\n",
              "  'Red',\n",
              "  'Red',\n",
              "  'Red',\n",
              "  'Red',\n",
              "  'Red',\n",
              "  'Red',\n",
              "  'Red',\n",
              "  'Red',\n",
              "  'Red',\n",
              "  'Red',\n",
              "  'Red',\n",
              "  'Red',\n",
              "  'Red',\n",
              "  'Red',\n",
              "  'Red',\n",
              "  'Red',\n",
              "  'Red',\n",
              "  'Red',\n",
              "  'Red',\n",
              "  'Red',\n",
              "  'Red',\n",
              "  'Red',\n",
              "  'Red',\n",
              "  'Red',\n",
              "  'Red',\n",
              "  'Red',\n",
              "  'Red',\n",
              "  'Red',\n",
              "  'Red',\n",
              "  'Red',\n",
              "  'Red',\n",
              "  'Red',\n",
              "  'Red',\n",
              "  'Red',\n",
              "  'Red',\n",
              "  'Red',\n",
              "  'Red',\n",
              "  'Red',\n",
              "  'Red',\n",
              "  'Red',\n",
              "  'Red',\n",
              "  'Red',\n",
              "  'Red',\n",
              "  'Red',\n",
              "  'Red',\n",
              "  'Red',\n",
              "  'Red',\n",
              "  'Red',\n",
              "  'Red',\n",
              "  'Red',\n",
              "  'Red',\n",
              "  'Red'],\n",
              " ['Blue White',\n",
              "  'Blue White',\n",
              "  'Blue White',\n",
              "  'Blue White',\n",
              "  'Blue White',\n",
              "  'Blue White',\n",
              "  'Blue White',\n",
              "  'Blue White',\n",
              "  'Blue White',\n",
              "  'Blue White',\n",
              "  'Blue White',\n",
              "  'Blue White',\n",
              "  'Blue White',\n",
              "  'Blue White',\n",
              "  'Blue White',\n",
              "  'Blue White',\n",
              "  'Blue White',\n",
              "  'Blue White',\n",
              "  'Blue White',\n",
              "  'Blue White',\n",
              "  'Blue White',\n",
              "  'Blue White',\n",
              "  'Blue White',\n",
              "  'Blue White',\n",
              "  'Blue White',\n",
              "  'Blue White',\n",
              "  'Blue White',\n",
              "  'Blue White',\n",
              "  'Blue White',\n",
              "  'Blue White',\n",
              "  'Blue White',\n",
              "  'Blue White',\n",
              "  'Blue White',\n",
              "  'Blue White',\n",
              "  'Blue White',\n",
              "  'Blue White',\n",
              "  'Blue White',\n",
              "  'Blue White',\n",
              "  'Blue White',\n",
              "  'Blue White',\n",
              "  'Blue White'],\n",
              " ['White',\n",
              "  'White',\n",
              "  'White',\n",
              "  'White',\n",
              "  'White',\n",
              "  'White',\n",
              "  'White',\n",
              "  'White',\n",
              "  'White',\n",
              "  'White',\n",
              "  'White',\n",
              "  'White'],\n",
              " ['Yellow White',\n",
              "  'Yellow White',\n",
              "  'Yellow White',\n",
              "  'Yellow White',\n",
              "  'Yellow White',\n",
              "  'Yellow White',\n",
              "  'Yellow White',\n",
              "  'Yellow White',\n",
              "  'Yellow White',\n",
              "  'Yellow White',\n",
              "  'Yellow White',\n",
              "  'Yellow White',\n",
              "  'Yellow White',\n",
              "  'Yellow White',\n",
              "  'Yellow White',\n",
              "  'Yellow White'],\n",
              " ['Blue',\n",
              "  'Blue',\n",
              "  'Blue',\n",
              "  'Blue',\n",
              "  'Blue',\n",
              "  'Blue',\n",
              "  'Blue',\n",
              "  'Blue',\n",
              "  'Blue',\n",
              "  'Blue',\n",
              "  'Blue',\n",
              "  'Blue',\n",
              "  'Blue',\n",
              "  'Blue',\n",
              "  'Blue',\n",
              "  'Blue',\n",
              "  'Blue',\n",
              "  'Blue',\n",
              "  'Blue',\n",
              "  'Blue',\n",
              "  'Blue',\n",
              "  'Blue',\n",
              "  'Blue',\n",
              "  'Blue',\n",
              "  'Blue',\n",
              "  'Blue',\n",
              "  'Blue',\n",
              "  'Blue',\n",
              "  'Blue',\n",
              "  'Blue',\n",
              "  'Blue',\n",
              "  'Blue',\n",
              "  'Blue',\n",
              "  'Blue',\n",
              "  'Blue',\n",
              "  'Blue',\n",
              "  'Blue',\n",
              "  'Blue',\n",
              "  'Blue',\n",
              "  'Blue',\n",
              "  'Blue',\n",
              "  'Blue',\n",
              "  'Blue',\n",
              "  'Blue',\n",
              "  'Blue',\n",
              "  'Blue',\n",
              "  'Blue',\n",
              "  'Blue',\n",
              "  'Blue',\n",
              "  'Blue',\n",
              "  'Blue',\n",
              "  'Blue',\n",
              "  'Blue',\n",
              "  'Blue',\n",
              "  'Blue',\n",
              "  'Blue'],\n",
              " ['Orange', 'Orange', 'Orange']]"
            ]
          },
          "metadata": {},
          "execution_count": 7
        }
      ]
    },
    {
      "cell_type": "code",
      "source": [
        "frequencias = []\n",
        "for lista in valores_classes:\n",
        "  frequencias.append(len(lista))\n",
        "\n",
        "frequencias"
      ],
      "metadata": {
        "id": "rCniTd_jJMm1",
        "colab": {
          "base_uri": "https://localhost:8080/"
        },
        "outputId": "09c285ef-af7b-4079-b3a7-d01474e72494"
      },
      "execution_count": null,
      "outputs": [
        {
          "output_type": "execute_result",
          "data": {
            "text/plain": [
              "[112, 41, 12, 16, 56, 3]"
            ]
          },
          "metadata": {},
          "execution_count": 8
        }
      ]
    },
    {
      "cell_type": "code",
      "source": [
        "freq_acm = []\n",
        "acumulada = 0\n",
        "for ind in range(0, len(frequencias)):\n",
        "  acumulada += round(frequencias[ind], 0)\n",
        "  freq_acm.append(acumulada)\n",
        "\n",
        "freq_acm\n"
      ],
      "metadata": {
        "id": "6wIP3PONJMyg",
        "colab": {
          "base_uri": "https://localhost:8080/"
        },
        "outputId": "1b9dd5d8-4ea3-46cf-fe15-22e8cd646e19"
      },
      "execution_count": null,
      "outputs": [
        {
          "output_type": "execute_result",
          "data": {
            "text/plain": [
              "[112, 153, 165, 181, 237, 240]"
            ]
          },
          "metadata": {},
          "execution_count": 9
        }
      ]
    },
    {
      "cell_type": "code",
      "source": [
        "tabela_de_frequencias = pd.DataFrame({\n",
        "    'Classes': classes,\n",
        "    'Frequência': frequencias,\n",
        "    'Freq. Acumulada': freq_acm,\n",
        "})\n",
        "\n",
        "tabela_de_frequencias['Freq. Relativa'] = round((tabela_de_frequencias['Frequência'] / sum(tabela_de_frequencias['Frequência'])), 3)\n",
        "tabela_de_frequencias['Freq. %'] = round((tabela_de_frequencias['Freq. Relativa'] * 100), 3)\n",
        "\n",
        "freq_per_acm = []\n",
        "per_acumulada = 0\n",
        "for ind in range(len(tabela_de_frequencias['Freq. %'])):\n",
        "  per_acumulada += round(tabela_de_frequencias['Freq. %'][ind], 3)\n",
        "  freq_per_acm.append(round(per_acumulada, 3))\n",
        "\n",
        "tabela_de_frequencias['Freq. % Acm'] = freq_per_acm\n",
        "tabela_de_frequencias = tabela_de_frequencias.append({'Classes' : 'Total', \n",
        "                                                      'Frequência' : sum(tabela_de_frequencias['Frequência']), \n",
        "                                                      'Freq. Acumulada' : '-', \n",
        "                                                      'Freq. Relativa': sum(tabela_de_frequencias['Freq. Relativa']),\n",
        "                                                      'Freq. %': sum(tabela_de_frequencias['Freq. %']),\n",
        "                                                      'Freq. % Acm': '-'\n",
        "                                                      }, \n",
        "                                                     ignore_index=True)\n",
        "\n",
        "tabela_de_frequencias.style.set_table_attributes(\"style='display:inline'\").set_caption(\"Cores das 240 estrelas mais próximas da Terra observadas em um estudo\")\n"
      ],
      "metadata": {
        "id": "ejBk84Z_QADw",
        "colab": {
          "base_uri": "https://localhost:8080/",
          "height": 341
        },
        "outputId": "8d2039b2-88a7-439d-ac3c-96b987c9bd84"
      },
      "execution_count": null,
      "outputs": [
        {
          "output_type": "stream",
          "name": "stderr",
          "text": [
            "<ipython-input-10-d73741d25af7>:17: FutureWarning: The frame.append method is deprecated and will be removed from pandas in a future version. Use pandas.concat instead.\n",
            "  tabela_de_frequencias = tabela_de_frequencias.append({'Classes' : 'Total',\n"
          ]
        },
        {
          "output_type": "execute_result",
          "data": {
            "text/plain": [
              "<pandas.io.formats.style.Styler at 0x7fb95a37ba90>"
            ],
            "text/html": [
              "<style type=\"text/css\">\n",
              "</style>\n",
              "<table id=\"T_b2c32\" class=\"dataframe\">\n",
              "  <caption>Cores das 240 estrelas mais próximas da Terra observadas em um estudo</caption>\n",
              "  <thead>\n",
              "    <tr>\n",
              "      <th class=\"blank level0\" >&nbsp;</th>\n",
              "      <th id=\"T_b2c32_level0_col0\" class=\"col_heading level0 col0\" >Classes</th>\n",
              "      <th id=\"T_b2c32_level0_col1\" class=\"col_heading level0 col1\" >Frequência</th>\n",
              "      <th id=\"T_b2c32_level0_col2\" class=\"col_heading level0 col2\" >Freq. Acumulada</th>\n",
              "      <th id=\"T_b2c32_level0_col3\" class=\"col_heading level0 col3\" >Freq. Relativa</th>\n",
              "      <th id=\"T_b2c32_level0_col4\" class=\"col_heading level0 col4\" >Freq. %</th>\n",
              "      <th id=\"T_b2c32_level0_col5\" class=\"col_heading level0 col5\" >Freq. % Acm</th>\n",
              "    </tr>\n",
              "  </thead>\n",
              "  <tbody>\n",
              "    <tr>\n",
              "      <th id=\"T_b2c32_level0_row0\" class=\"row_heading level0 row0\" >0</th>\n",
              "      <td id=\"T_b2c32_row0_col0\" class=\"data row0 col0\" >Red</td>\n",
              "      <td id=\"T_b2c32_row0_col1\" class=\"data row0 col1\" >112</td>\n",
              "      <td id=\"T_b2c32_row0_col2\" class=\"data row0 col2\" >112</td>\n",
              "      <td id=\"T_b2c32_row0_col3\" class=\"data row0 col3\" >0.467000</td>\n",
              "      <td id=\"T_b2c32_row0_col4\" class=\"data row0 col4\" >46.700000</td>\n",
              "      <td id=\"T_b2c32_row0_col5\" class=\"data row0 col5\" >46.700000</td>\n",
              "    </tr>\n",
              "    <tr>\n",
              "      <th id=\"T_b2c32_level0_row1\" class=\"row_heading level0 row1\" >1</th>\n",
              "      <td id=\"T_b2c32_row1_col0\" class=\"data row1 col0\" >Blue White</td>\n",
              "      <td id=\"T_b2c32_row1_col1\" class=\"data row1 col1\" >41</td>\n",
              "      <td id=\"T_b2c32_row1_col2\" class=\"data row1 col2\" >153</td>\n",
              "      <td id=\"T_b2c32_row1_col3\" class=\"data row1 col3\" >0.171000</td>\n",
              "      <td id=\"T_b2c32_row1_col4\" class=\"data row1 col4\" >17.100000</td>\n",
              "      <td id=\"T_b2c32_row1_col5\" class=\"data row1 col5\" >63.800000</td>\n",
              "    </tr>\n",
              "    <tr>\n",
              "      <th id=\"T_b2c32_level0_row2\" class=\"row_heading level0 row2\" >2</th>\n",
              "      <td id=\"T_b2c32_row2_col0\" class=\"data row2 col0\" >White</td>\n",
              "      <td id=\"T_b2c32_row2_col1\" class=\"data row2 col1\" >12</td>\n",
              "      <td id=\"T_b2c32_row2_col2\" class=\"data row2 col2\" >165</td>\n",
              "      <td id=\"T_b2c32_row2_col3\" class=\"data row2 col3\" >0.050000</td>\n",
              "      <td id=\"T_b2c32_row2_col4\" class=\"data row2 col4\" >5.000000</td>\n",
              "      <td id=\"T_b2c32_row2_col5\" class=\"data row2 col5\" >68.800000</td>\n",
              "    </tr>\n",
              "    <tr>\n",
              "      <th id=\"T_b2c32_level0_row3\" class=\"row_heading level0 row3\" >3</th>\n",
              "      <td id=\"T_b2c32_row3_col0\" class=\"data row3 col0\" >Yellow White</td>\n",
              "      <td id=\"T_b2c32_row3_col1\" class=\"data row3 col1\" >16</td>\n",
              "      <td id=\"T_b2c32_row3_col2\" class=\"data row3 col2\" >181</td>\n",
              "      <td id=\"T_b2c32_row3_col3\" class=\"data row3 col3\" >0.067000</td>\n",
              "      <td id=\"T_b2c32_row3_col4\" class=\"data row3 col4\" >6.700000</td>\n",
              "      <td id=\"T_b2c32_row3_col5\" class=\"data row3 col5\" >75.500000</td>\n",
              "    </tr>\n",
              "    <tr>\n",
              "      <th id=\"T_b2c32_level0_row4\" class=\"row_heading level0 row4\" >4</th>\n",
              "      <td id=\"T_b2c32_row4_col0\" class=\"data row4 col0\" >Blue</td>\n",
              "      <td id=\"T_b2c32_row4_col1\" class=\"data row4 col1\" >56</td>\n",
              "      <td id=\"T_b2c32_row4_col2\" class=\"data row4 col2\" >237</td>\n",
              "      <td id=\"T_b2c32_row4_col3\" class=\"data row4 col3\" >0.233000</td>\n",
              "      <td id=\"T_b2c32_row4_col4\" class=\"data row4 col4\" >23.300000</td>\n",
              "      <td id=\"T_b2c32_row4_col5\" class=\"data row4 col5\" >98.800000</td>\n",
              "    </tr>\n",
              "    <tr>\n",
              "      <th id=\"T_b2c32_level0_row5\" class=\"row_heading level0 row5\" >5</th>\n",
              "      <td id=\"T_b2c32_row5_col0\" class=\"data row5 col0\" >Orange</td>\n",
              "      <td id=\"T_b2c32_row5_col1\" class=\"data row5 col1\" >3</td>\n",
              "      <td id=\"T_b2c32_row5_col2\" class=\"data row5 col2\" >240</td>\n",
              "      <td id=\"T_b2c32_row5_col3\" class=\"data row5 col3\" >0.012000</td>\n",
              "      <td id=\"T_b2c32_row5_col4\" class=\"data row5 col4\" >1.200000</td>\n",
              "      <td id=\"T_b2c32_row5_col5\" class=\"data row5 col5\" >100.000000</td>\n",
              "    </tr>\n",
              "    <tr>\n",
              "      <th id=\"T_b2c32_level0_row6\" class=\"row_heading level0 row6\" >6</th>\n",
              "      <td id=\"T_b2c32_row6_col0\" class=\"data row6 col0\" >Total</td>\n",
              "      <td id=\"T_b2c32_row6_col1\" class=\"data row6 col1\" >240</td>\n",
              "      <td id=\"T_b2c32_row6_col2\" class=\"data row6 col2\" >-</td>\n",
              "      <td id=\"T_b2c32_row6_col3\" class=\"data row6 col3\" >1.000000</td>\n",
              "      <td id=\"T_b2c32_row6_col4\" class=\"data row6 col4\" >100.000000</td>\n",
              "      <td id=\"T_b2c32_row6_col5\" class=\"data row6 col5\" >-</td>\n",
              "    </tr>\n",
              "  </tbody>\n",
              "</table>\n"
            ]
          },
          "metadata": {},
          "execution_count": 10
        }
      ]
    },
    {
      "cell_type": "code",
      "source": [],
      "metadata": {
        "id": "wYFxXn9xHN7L"
      },
      "execution_count": null,
      "outputs": []
    },
    {
      "cell_type": "code",
      "source": [
        "tabela_de_frequencias2 = pd.DataFrame({\n",
        "    'Classes': classes,\n",
        "    'Frequência': frequencias,\n",
        "    'Freq. Acumulada': freq_acm,\n",
        "})\n",
        "\n",
        "tabela_de_frequencias2['Freq. Relativa'] = round((tabela_de_frequencias2['Frequência'] / sum(tabela_de_frequencias2['Frequência'])), 3)\n",
        "tabela_de_frequencias2['Freq. %'] = round((tabela_de_frequencias2['Freq. Relativa'] * 100), 3)\n",
        "\n",
        "freq_per_acm = []\n",
        "per_acumulada = 0\n",
        "for ind in range(len(tabela_de_frequencias2['Freq. %'])):\n",
        "  per_acumulada += round(tabela_de_frequencias2['Freq. %'][ind], 3)\n",
        "  freq_per_acm.append(round(per_acumulada, 3))\n",
        "\n",
        "tabela_de_frequencias2['Freq. % Acm'] = freq_per_acm\n",
        "\n",
        "tabela_de_frequencias2.style.set_table_attributes(\"style='display:inline'\").set_caption(\"Cores das 240 estrelas mais próximas da Terra observadas em um estudo\")"
      ],
      "metadata": {
        "colab": {
          "base_uri": "https://localhost:8080/",
          "height": 255
        },
        "outputId": "1d6df9b4-db44-49ff-cdfe-d1b590d3c514",
        "id": "UxNdglDLHOV-"
      },
      "execution_count": null,
      "outputs": [
        {
          "output_type": "execute_result",
          "data": {
            "text/plain": [
              "<pandas.io.formats.style.Styler at 0x7fb95a2e4850>"
            ],
            "text/html": [
              "<style type=\"text/css\">\n",
              "</style>\n",
              "<table id=\"T_5a260\" class=\"dataframe\">\n",
              "  <caption>Cores das 240 estrelas mais próximas da Terra observadas em um estudo</caption>\n",
              "  <thead>\n",
              "    <tr>\n",
              "      <th class=\"blank level0\" >&nbsp;</th>\n",
              "      <th id=\"T_5a260_level0_col0\" class=\"col_heading level0 col0\" >Classes</th>\n",
              "      <th id=\"T_5a260_level0_col1\" class=\"col_heading level0 col1\" >Frequência</th>\n",
              "      <th id=\"T_5a260_level0_col2\" class=\"col_heading level0 col2\" >Freq. Acumulada</th>\n",
              "      <th id=\"T_5a260_level0_col3\" class=\"col_heading level0 col3\" >Freq. Relativa</th>\n",
              "      <th id=\"T_5a260_level0_col4\" class=\"col_heading level0 col4\" >Freq. %</th>\n",
              "      <th id=\"T_5a260_level0_col5\" class=\"col_heading level0 col5\" >Freq. % Acm</th>\n",
              "    </tr>\n",
              "  </thead>\n",
              "  <tbody>\n",
              "    <tr>\n",
              "      <th id=\"T_5a260_level0_row0\" class=\"row_heading level0 row0\" >0</th>\n",
              "      <td id=\"T_5a260_row0_col0\" class=\"data row0 col0\" >Red</td>\n",
              "      <td id=\"T_5a260_row0_col1\" class=\"data row0 col1\" >112</td>\n",
              "      <td id=\"T_5a260_row0_col2\" class=\"data row0 col2\" >112</td>\n",
              "      <td id=\"T_5a260_row0_col3\" class=\"data row0 col3\" >0.467000</td>\n",
              "      <td id=\"T_5a260_row0_col4\" class=\"data row0 col4\" >46.700000</td>\n",
              "      <td id=\"T_5a260_row0_col5\" class=\"data row0 col5\" >46.700000</td>\n",
              "    </tr>\n",
              "    <tr>\n",
              "      <th id=\"T_5a260_level0_row1\" class=\"row_heading level0 row1\" >1</th>\n",
              "      <td id=\"T_5a260_row1_col0\" class=\"data row1 col0\" >Blue White</td>\n",
              "      <td id=\"T_5a260_row1_col1\" class=\"data row1 col1\" >41</td>\n",
              "      <td id=\"T_5a260_row1_col2\" class=\"data row1 col2\" >153</td>\n",
              "      <td id=\"T_5a260_row1_col3\" class=\"data row1 col3\" >0.171000</td>\n",
              "      <td id=\"T_5a260_row1_col4\" class=\"data row1 col4\" >17.100000</td>\n",
              "      <td id=\"T_5a260_row1_col5\" class=\"data row1 col5\" >63.800000</td>\n",
              "    </tr>\n",
              "    <tr>\n",
              "      <th id=\"T_5a260_level0_row2\" class=\"row_heading level0 row2\" >2</th>\n",
              "      <td id=\"T_5a260_row2_col0\" class=\"data row2 col0\" >White</td>\n",
              "      <td id=\"T_5a260_row2_col1\" class=\"data row2 col1\" >12</td>\n",
              "      <td id=\"T_5a260_row2_col2\" class=\"data row2 col2\" >165</td>\n",
              "      <td id=\"T_5a260_row2_col3\" class=\"data row2 col3\" >0.050000</td>\n",
              "      <td id=\"T_5a260_row2_col4\" class=\"data row2 col4\" >5.000000</td>\n",
              "      <td id=\"T_5a260_row2_col5\" class=\"data row2 col5\" >68.800000</td>\n",
              "    </tr>\n",
              "    <tr>\n",
              "      <th id=\"T_5a260_level0_row3\" class=\"row_heading level0 row3\" >3</th>\n",
              "      <td id=\"T_5a260_row3_col0\" class=\"data row3 col0\" >Yellow White</td>\n",
              "      <td id=\"T_5a260_row3_col1\" class=\"data row3 col1\" >16</td>\n",
              "      <td id=\"T_5a260_row3_col2\" class=\"data row3 col2\" >181</td>\n",
              "      <td id=\"T_5a260_row3_col3\" class=\"data row3 col3\" >0.067000</td>\n",
              "      <td id=\"T_5a260_row3_col4\" class=\"data row3 col4\" >6.700000</td>\n",
              "      <td id=\"T_5a260_row3_col5\" class=\"data row3 col5\" >75.500000</td>\n",
              "    </tr>\n",
              "    <tr>\n",
              "      <th id=\"T_5a260_level0_row4\" class=\"row_heading level0 row4\" >4</th>\n",
              "      <td id=\"T_5a260_row4_col0\" class=\"data row4 col0\" >Blue</td>\n",
              "      <td id=\"T_5a260_row4_col1\" class=\"data row4 col1\" >56</td>\n",
              "      <td id=\"T_5a260_row4_col2\" class=\"data row4 col2\" >237</td>\n",
              "      <td id=\"T_5a260_row4_col3\" class=\"data row4 col3\" >0.233000</td>\n",
              "      <td id=\"T_5a260_row4_col4\" class=\"data row4 col4\" >23.300000</td>\n",
              "      <td id=\"T_5a260_row4_col5\" class=\"data row4 col5\" >98.800000</td>\n",
              "    </tr>\n",
              "    <tr>\n",
              "      <th id=\"T_5a260_level0_row5\" class=\"row_heading level0 row5\" >5</th>\n",
              "      <td id=\"T_5a260_row5_col0\" class=\"data row5 col0\" >Orange</td>\n",
              "      <td id=\"T_5a260_row5_col1\" class=\"data row5 col1\" >3</td>\n",
              "      <td id=\"T_5a260_row5_col2\" class=\"data row5 col2\" >240</td>\n",
              "      <td id=\"T_5a260_row5_col3\" class=\"data row5 col3\" >0.012000</td>\n",
              "      <td id=\"T_5a260_row5_col4\" class=\"data row5 col4\" >1.200000</td>\n",
              "      <td id=\"T_5a260_row5_col5\" class=\"data row5 col5\" >100.000000</td>\n",
              "    </tr>\n",
              "  </tbody>\n",
              "</table>\n"
            ]
          },
          "metadata": {},
          "execution_count": 11
        }
      ]
    },
    {
      "cell_type": "markdown",
      "source": [
        "# Gráficos"
      ],
      "metadata": {
        "id": "PGoFb9u5S0pE"
      }
    },
    {
      "cell_type": "code",
      "source": [
        "cols1 = ['red' if x == 'Red' \n",
        "        else 'blue' if x == 'Blue' \n",
        "        else 'LightBlue' if x == 'Blue White' \n",
        "        else 'gray' if x == 'White' \n",
        "        else 'orange' if x == 'Orange' \n",
        "        else 'Gold' if x == 'Yellow White' \n",
        "        else 'gray' for x in tabela_de_frequencias['Classes']]\n",
        "\n",
        "cols2 = ['LightBlue' if x == 'Red' \n",
        "        else 'LightBlue' if x == 'Blue' \n",
        "        else 'LightBlue' if x == 'Blue White' \n",
        "        else 'LightBlue' if x == 'White' \n",
        "        else 'LightBlue' if x == 'Orange' \n",
        "        else 'LightBlue' if x == 'Yellow White' \n",
        "        else 'LightBlue' for x in tabela_de_frequencias['Classes']]\n",
        "\n",
        "sns.barplot(x=tabela_de_frequencias2['Classes'], y=tabela_de_frequencias2['Frequência'], palette=cols2).set_title('Gráfico de barras de 240 estrelas\\n de acordo com suas respecticas cores\\n', fontdict={'fontsize': 15})"
      ],
      "metadata": {
        "id": "-LT2me71NFmZ",
        "colab": {
          "base_uri": "https://localhost:8080/",
          "height": 349
        },
        "outputId": "1e8bd614-b018-47bb-d7e1-072f8e333154"
      },
      "execution_count": null,
      "outputs": [
        {
          "output_type": "execute_result",
          "data": {
            "text/plain": [
              "Text(0.5, 1.0, 'Gráfico de barras de 240 estrelas\\n de acordo com suas respecticas cores\\n')"
            ]
          },
          "metadata": {},
          "execution_count": 26
        },
        {
          "output_type": "display_data",
          "data": {
            "text/plain": [
              "<Figure size 432x288 with 1 Axes>"
            ],
            "image/png": "[encoded data removed]"
          },
          "metadata": {
            "needs_background": "light"
          }
        }
      ]
    },
    {
      "cell_type": "code",
      "source": [
        "plt.pie(tabela_de_frequencias2['Frequência'], labels=classes, colors=cols1, autopct='%.0f%%')\n",
        "plt.title(\"Gráfico da distribuição percentual de 240 estrelas\\n de acordo com suas respectivas cores\", bbox={'facecolor':'0.8', 'pad':5})\n",
        "plt.show()"
      ],
      "metadata": {
        "id": "SwV7BgybU3_v",
        "colab": {
          "base_uri": "https://localhost:8080/",
          "height": 279
        },
        "outputId": "d771db23-ce4d-40a3-a275-1224df5bbe90"
      },
      "execution_count": null,
      "outputs": [
        {
          "output_type": "display_data",
          "data": {
            "text/plain": [
              "<Figure size 432x288 with 1 Axes>"
            ],
            "image/png": "[encoded data removed]"
          },
          "metadata": {}
        }
      ]
    }
  ]
}