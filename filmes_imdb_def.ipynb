{
  "nbformat": 4,
  "nbformat_minor": 0,
  "metadata": {
    "colab": {
      "provenance": [],
      "include_colab_link": true
    },
    "kernelspec": {
      "name": "python3",
      "display_name": "Python 3"
    },
    "language_info": {
      "name": "python"
    }
  },
  "cells": [
    {
      "cell_type": "markdown",
      "metadata": {
        "id": "view-in-github",
        "colab_type": "text"
      },
      "source": [
        "<a href=\"https://colab.research.google.com/github/jobutupak/Estatistica/blob/main/filmes_imdb_def.ipynb\" target=\"_parent\"><img src=\"https://colab.research.google.com/assets/colab-badge.svg\" alt=\"Open In Colab\"/></a>"
      ]
    },
    {
      "cell_type": "code",
      "execution_count": null,
      "metadata": {
        "id": "e5b7MRsHpl_j"
      },
      "outputs": [],
      "source": [
        "import pandas as pd\n",
        "import numpy as np\n",
        "import seaborn as sns\n",
        "import matplotlib.pyplot as plt\n",
        "import plotly.express as px\n",
        "import math"
      ]
    },
    {
      "cell_type": "markdown",
      "source": [
        "# Ordenando os dados e encontrando valores iniciais"
      ],
      "metadata": {
        "id": "1mQeDDhH9U8f"
      }
    },
    {
      "cell_type": "code",
      "source": [
        "base_filmes = pd.read_csv('/content/imdbdata.csv')"
      ],
      "metadata": {
        "id": "vgyAxJ21pvBo"
      },
      "execution_count": null,
      "outputs": []
    },
    {
      "cell_type": "code",
      "source": [
        "base_filmes_ordenada = base_filmes.sort_values(['notas'], ascending=True)"
      ],
      "metadata": {
        "id": "Xhet5DQ4p8KA"
      },
      "execution_count": null,
      "outputs": []
    },
    {
      "cell_type": "code",
      "source": [
        "base_filmes_ordenada"
      ],
      "metadata": {
        "id": "jfWjGf4frM_I",
        "colab": {
          "base_uri": "https://localhost:8080/",
          "height": 424
        },
        "outputId": "40d4710a-ce5d-40d9-e34f-584bbb437894"
      },
      "execution_count": null,
      "outputs": [
        {
          "output_type": "execute_result",
          "data": {
            "text/plain": [
              "                                             title  notas\n",
              "0                                         The Room    3.6\n",
              "1                                        Woodshock    4.2\n",
              "2    A Glimpse Inside the Mind of Charles Swan III    4.6\n",
              "3                                            Slice    4.6\n",
              "4                                   False Positive    4.7\n",
              "..                                             ...    ...\n",
              "138              Everything Everywhere All at Once    8.0\n",
              "139                                     Earth Mama    8.0\n",
              "140                           You Hurt My Feelings    8.0\n",
              "141                                           Room    8.1\n",
              "142                                     Past Lives    8.2\n",
              "\n",
              "[143 rows x 2 columns]"
            ],
            "text/html": [
              "\n",
              "  <div id=\"df-fa01aa8f-4fe1-42b5-9ff8-eb913e61964e\">\n",
              "    <div class=\"colab-df-container\">\n",
              "      <div>\n",
              "<style scoped>\n",
              "    .dataframe tbody tr th:only-of-type {\n",
              "        vertical-align: middle;\n",
              "    }\n",
              "\n",
              "    .dataframe tbody tr th {\n",
              "        vertical-align: top;\n",
              "    }\n",
              "\n",
              "    .dataframe thead th {\n",
              "        text-align: right;\n",
              "    }\n",
              "</style>\n",
              "<table border=\"1\" class=\"dataframe\">\n",
              "  <thead>\n",
              "    <tr style=\"text-align: right;\">\n",
              "      <th></th>\n",
              "      <th>title</th>\n",
              "      <th>notas</th>\n",
              "    </tr>\n",
              "  </thead>\n",
              "  <tbody>\n",
              "    <tr>\n",
              "      <th>0</th>\n",
              "      <td>The Room</td>\n",
              "      <td>3.6</td>\n",
              "    </tr>\n",
              "    <tr>\n",
              "      <th>1</th>\n",
              "      <td>Woodshock</td>\n",
              "      <td>4.2</td>\n",
              "    </tr>\n",
              "    <tr>\n",
              "      <th>2</th>\n",
              "      <td>A Glimpse Inside the Mind of Charles Swan III</td>\n",
              "      <td>4.6</td>\n",
              "    </tr>\n",
              "    <tr>\n",
              "      <th>3</th>\n",
              "      <td>Slice</td>\n",
              "      <td>4.6</td>\n",
              "    </tr>\n",
              "    <tr>\n",
              "      <th>4</th>\n",
              "      <td>False Positive</td>\n",
              "      <td>4.7</td>\n",
              "    </tr>\n",
              "    <tr>\n",
              "      <th>...</th>\n",
              "      <td>...</td>\n",
              "      <td>...</td>\n",
              "    </tr>\n",
              "    <tr>\n",
              "      <th>138</th>\n",
              "      <td>Everything Everywhere All at Once</td>\n",
              "      <td>8.0</td>\n",
              "    </tr>\n",
              "    <tr>\n",
              "      <th>139</th>\n",
              "      <td>Earth Mama</td>\n",
              "      <td>8.0</td>\n",
              "    </tr>\n",
              "    <tr>\n",
              "      <th>140</th>\n",
              "      <td>You Hurt My Feelings</td>\n",
              "      <td>8.0</td>\n",
              "    </tr>\n",
              "    <tr>\n",
              "      <th>141</th>\n",
              "      <td>Room</td>\n",
              "      <td>8.1</td>\n",
              "    </tr>\n",
              "    <tr>\n",
              "      <th>142</th>\n",
              "      <td>Past Lives</td>\n",
              "      <td>8.2</td>\n",
              "    </tr>\n",
              "  </tbody>\n",
              "</table>\n",
              "<p>143 rows × 2 columns</p>\n",
              "</div>\n",
              "      <button class=\"colab-df-convert\" onclick=\"convertToInteractive('df-fa01aa8f-4fe1-42b5-9ff8-eb913e61964e')\"\n",
              "              title=\"Convert this dataframe to an interactive table.\"\n",
              "              style=\"display:none;\">\n",
              "        \n",
              "  <svg xmlns=\"http://www.w3.org/2000/svg\" height=\"24px\"viewBox=\"0 0 24 24\"\n",
              "       width=\"24px\">\n",
              "    <path d=\"M0 0h24v24H0V0z\" fill=\"none\"/>\n",
              "    <path d=\"M18.56 5.44l.94 2.06.94-2.06 2.06-.94-2.06-.94-.94-2.06-.94 2.06-2.06.94zm-11 1L8.5 8.5l.94-2.06 2.06-.94-2.06-.94L8.5 2.5l-.94 2.06-2.06.94zm10 10l.94 2.06.94-2.06 2.06-.94-2.06-.94-.94-2.06-.94 2.06-2.06.94z\"/><path d=\"M17.41 7.96l-1.37-1.37c-.4-.4-.92-.59-1.43-.59-.52 0-1.04.2-1.43.59L10.3 9.45l-7.72 7.72c-.78.78-.78 2.05 0 2.83L4 21.41c.39.39.9.59 1.41.59.51 0 1.02-.2 1.41-.59l7.78-7.78 2.81-2.81c.8-.78.8-2.07 0-2.86zM5.41 20L4 18.59l7.72-7.72 1.47 1.35L5.41 20z\"/>\n",
              "  </svg>\n",
              "      </button>\n",
              "      \n",
              "  <style>\n",
              "    .colab-df-container {\n",
              "      display:flex;\n",
              "      flex-wrap:wrap;\n",
              "      gap: 12px;\n",
              "    }\n",
              "\n",
              "    .colab-df-convert {\n",
              "      background-color: #E8F0FE;\n",
              "      border: none;\n",
              "      border-radius: 50%;\n",
              "      cursor: pointer;\n",
              "      display: none;\n",
              "      fill: #1967D2;\n",
              "      height: 32px;\n",
              "      padding: 0 0 0 0;\n",
              "      width: 32px;\n",
              "    }\n",
              "\n",
              "    .colab-df-convert:hover {\n",
              "      background-color: #E2EBFA;\n",
              "      box-shadow: 0px 1px 2px rgba(60, 64, 67, 0.3), 0px 1px 3px 1px rgba(60, 64, 67, 0.15);\n",
              "      fill: #174EA6;\n",
              "    }\n",
              "\n",
              "    [theme=dark] .colab-df-convert {\n",
              "      background-color: #3B4455;\n",
              "      fill: #D2E3FC;\n",
              "    }\n",
              "\n",
              "    [theme=dark] .colab-df-convert:hover {\n",
              "      background-color: #434B5C;\n",
              "      box-shadow: 0px 1px 3px 1px rgba(0, 0, 0, 0.15);\n",
              "      filter: drop-shadow(0px 1px 2px rgba(0, 0, 0, 0.3));\n",
              "      fill: #FFFFFF;\n",
              "    }\n",
              "  </style>\n",
              "\n",
              "      <script>\n",
              "        const buttonEl =\n",
              "          document.querySelector('#df-fa01aa8f-4fe1-42b5-9ff8-eb913e61964e button.colab-df-convert');\n",
              "        buttonEl.style.display =\n",
              "          google.colab.kernel.accessAllowed ? 'block' : 'none';\n",
              "\n",
              "        async function convertToInteractive(key) {\n",
              "          const element = document.querySelector('#df-fa01aa8f-4fe1-42b5-9ff8-eb913e61964e');\n",
              "          const dataTable =\n",
              "            await google.colab.kernel.invokeFunction('convertToInteractive',\n",
              "                                                     [key], {});\n",
              "          if (!dataTable) return;\n",
              "\n",
              "          const docLinkHtml = 'Like what you see? Visit the ' +\n",
              "            '<a target=\"_blank\" href=https://colab.research.google.com/notebooks/data_table.ipynb>data table notebook</a>'\n",
              "            + ' to learn more about interactive tables.';\n",
              "          element.innerHTML = '';\n",
              "          dataTable['output_type'] = 'display_data';\n",
              "          await google.colab.output.renderOutput(dataTable, element);\n",
              "          const docLink = document.createElement('div');\n",
              "          docLink.innerHTML = docLinkHtml;\n",
              "          element.appendChild(docLink);\n",
              "        }\n",
              "      </script>\n",
              "    </div>\n",
              "  </div>\n",
              "  "
            ]
          },
          "metadata": {},
          "execution_count": 4
        }
      ]
    },
    {
      "cell_type": "code",
      "source": [
        "at = base_filmes_ordenada['notas'].max() - base_filmes_ordenada['notas'].min()\n",
        "at"
      ],
      "metadata": {
        "id": "b9S2mrfwrW0g",
        "colab": {
          "base_uri": "https://localhost:8080/"
        },
        "outputId": "b0930f1b-1a9e-48eb-cb71-580dbbdd0522"
      },
      "execution_count": null,
      "outputs": [
        {
          "output_type": "execute_result",
          "data": {
            "text/plain": [
              "4.6"
            ]
          },
          "metadata": {},
          "execution_count": 5
        }
      ]
    },
    {
      "cell_type": "code",
      "source": [
        "k = math.sqrt(len(base_filmes_ordenada['notas']))\n",
        "k = math.ceil(k)\n",
        "k\n",
        "k = 10"
      ],
      "metadata": {
        "id": "k4XbR-6OrpqM"
      },
      "execution_count": null,
      "outputs": []
    },
    {
      "cell_type": "code",
      "source": [
        "h = at / k\n",
        "h = round(h, 2)\n",
        "h"
      ],
      "metadata": {
        "id": "bwoQqQATsMt7",
        "colab": {
          "base_uri": "https://localhost:8080/"
        },
        "outputId": "9a94f718-e2c3-454a-a50a-743d63b3db81"
      },
      "execution_count": null,
      "outputs": [
        {
          "output_type": "execute_result",
          "data": {
            "text/plain": [
              "0.46"
            ]
          },
          "metadata": {},
          "execution_count": 7
        }
      ]
    },
    {
      "cell_type": "markdown",
      "source": [
        "# Criando a tabela de frequências\n"
      ],
      "metadata": {
        "id": "R-9jYwFus4KT"
      }
    },
    {
      "cell_type": "markdown",
      "source": [
        "Determinando as classes e seus intervalos."
      ],
      "metadata": {
        "id": "ixj8As9XaqzR"
      }
    },
    {
      "cell_type": "code",
      "source": [
        "classes = []\n",
        "lim_min = base_filmes_ordenada['notas'].min()\n",
        "lim_max = base_filmes_ordenada['notas'].max()\n",
        "lim_inferior = lim_min\n",
        "\n",
        "while True:\n",
        "  if round(lim_inferior + h, 1) == lim_max:\n",
        "    classes.append([round(lim_inferior, 2), round(lim_inferior + h, 1)])\n",
        "    break\n",
        "  else:\n",
        "    classes.append([round(lim_inferior, 2), round(lim_inferior + h, 2)])\n",
        "    lim_inferior = lim_inferior + h\n",
        "\n",
        "classes"
      ],
      "metadata": {
        "id": "CZLAjlFjDW-Z",
        "colab": {
          "base_uri": "https://localhost:8080/"
        },
        "outputId": "1138ff13-819c-4617-b680-d07b20f2c515"
      },
      "execution_count": null,
      "outputs": [
        {
          "output_type": "execute_result",
          "data": {
            "text/plain": [
              "[[3.6, 4.06],\n",
              " [4.06, 4.52],\n",
              " [4.52, 4.98],\n",
              " [4.98, 5.44],\n",
              " [5.44, 5.9],\n",
              " [5.9, 6.36],\n",
              " [6.36, 6.82],\n",
              " [6.82, 7.28],\n",
              " [7.28, 7.74],\n",
              " [7.74, 8.2]]"
            ]
          },
          "metadata": {},
          "execution_count": 91
        }
      ]
    },
    {
      "cell_type": "markdown",
      "source": [
        "Atribuindo os valores da base de dados às suas determinadas classes."
      ],
      "metadata": {
        "id": "oMzWGeQXa1y6"
      }
    },
    {
      "cell_type": "code",
      "source": [
        "valores_classes = []\n",
        "for classe in classes:\n",
        "  valores = base_filmes_ordenada[(classe[0] <= base_filmes_ordenada['notas']) & (classe[1] > base_filmes_ordenada['notas'])]['notas']\n",
        "\n",
        "  if classes.index(classe) == len(classes) - 1:\n",
        "    valores = base_filmes_ordenada[(classe[0] <= base_filmes_ordenada['notas']) & (classe[1] >= base_filmes_ordenada['notas'])]['notas']\n",
        "\n",
        "  else:\n",
        "    pass\n",
        "  valores_classes.append(list(valores))\n",
        "\n",
        "valores_classes"
      ],
      "metadata": {
        "id": "AcypK8zKGlXQ"
      },
      "execution_count": null,
      "outputs": []
    },
    {
      "cell_type": "markdown",
      "source": [
        "Determinando as frequências absolutas de cada classe."
      ],
      "metadata": {
        "id": "xrrGxiO5bGuu"
      }
    },
    {
      "cell_type": "code",
      "source": [
        "frequencias = []\n",
        "for lista in valores_classes:\n",
        "  frequencias.append(len(lista))\n",
        "\n",
        "frequencias"
      ],
      "metadata": {
        "id": "hV1YrU0FJisl"
      },
      "execution_count": null,
      "outputs": []
    },
    {
      "cell_type": "markdown",
      "source": [
        "Determinando as frequências acumuladas."
      ],
      "metadata": {
        "id": "PSc54yTYbSBS"
      }
    },
    {
      "cell_type": "code",
      "source": [
        "freq_acm = []\n",
        "acumulada = 0\n",
        "for ind in range(0, len(frequencias)):\n",
        "  acumulada += frequencias[ind]\n",
        "  freq_acm.append(acumulada)\n",
        "\n",
        "freq_acm"
      ],
      "metadata": {
        "id": "eTfOHVNDPftS",
        "colab": {
          "base_uri": "https://localhost:8080/"
        },
        "outputId": "8c47479c-6377-47e4-cbd5-4f80200c67f0"
      },
      "execution_count": null,
      "outputs": [
        {
          "output_type": "execute_result",
          "data": {
            "text/plain": [
              "[1, 2, 5, 13, 27, 57, 84, 109, 133, 143]"
            ]
          },
          "metadata": {},
          "execution_count": 11
        }
      ]
    },
    {
      "cell_type": "markdown",
      "source": [
        "Determinando o ponto médio de cada classe."
      ],
      "metadata": {
        "id": "u3kpTgeIbZzv"
      }
    },
    {
      "cell_type": "code",
      "source": [
        "ponto_medio = []\n",
        "for classe in classes:\n",
        "  pt = round(((classe[1] + classe[0]) / 2), 3)\n",
        "  ponto_medio.append(pt)\n",
        "\n",
        "ponto_medio"
      ],
      "metadata": {
        "id": "jNs41dmDW5hF",
        "colab": {
          "base_uri": "https://localhost:8080/"
        },
        "outputId": "db29af00-f308-4bcb-b894-d325d67c2fc8"
      },
      "execution_count": null,
      "outputs": [
        {
          "output_type": "execute_result",
          "data": {
            "text/plain": [
              "[3.83, 4.29, 4.75, 5.21, 5.67, 6.13, 6.59, 7.05, 7.51, 7.97]"
            ]
          },
          "metadata": {},
          "execution_count": 12
        }
      ]
    },
    {
      "cell_type": "markdown",
      "source": [
        "Criando e exibundo a tabela de distribuição de frequências em intervalos."
      ],
      "metadata": {
        "id": "cG_ZwDoDbiyX"
      }
    },
    {
      "cell_type": "code",
      "source": [
        "tabela_de_frequencias = pd.DataFrame({\n",
        "    'Classes': classes,\n",
        "    'Frequência': frequencias,\n",
        "    'Freq. Acumulada': freq_acm,\n",
        "})\n",
        "\n",
        "tabela_de_frequencias['Freq. Relativa'] = round((tabela_de_frequencias['Frequência'] / sum(tabela_de_frequencias['Frequência'])), 3)\n",
        "tabela_de_frequencias['Freq. Relativa %'] = round((tabela_de_frequencias['Freq. Relativa'] * 100), 3)\n",
        "tabela_de_frequencias['Xm'] = ponto_medio\n",
        "tabela_de_frequencias['Xm * f'] = round(tabela_de_frequencias['Xm'] * tabela_de_frequencias['Frequência'], 3)\n",
        "\n",
        "xm_media = tabela_de_frequencias['Xm'] - base_filmes_ordenada['notas'].mean()\n",
        "f_xm_media_2 = round(tabela_de_frequencias['Frequência'] * (xm_media * xm_media), 3)\n",
        "\n",
        "\n",
        "tabela_de_frequencias2 = tabela_de_frequencias.append({\n",
        "    'Classes' : 'Total', \n",
        "    'Frequência' : sum(tabela_de_frequencias['Frequência']), \n",
        "    'Freq. Acumulada' : '-', \n",
        "    'Freq. Relativa': sum(tabela_de_frequencias['Freq. Relativa']),\n",
        "    'Freq. Relativa %': sum(tabela_de_frequencias['Freq. Relativa %']),\n",
        "    'Xm': '-',\n",
        "    'Xm * f' : sum(tabela_de_frequencias['Xm * f'])\n",
        "}, ignore_index=True)\n",
        "\n",
        "tabela_de_frequencias2.style.set_table_attributes(\"style='display:inline'\").set_caption('Distribuição de frequências em intervalos das notas dos filmes lançados até março de 2023, segundo o IMDB, do estúdio de filmes A24')\n"
      ],
      "metadata": {
        "id": "vCN7sQbpK4ll",
        "colab": {
          "base_uri": "https://localhost:8080/",
          "height": 518
        },
        "outputId": "14feecec-ff00-4d5e-b099-2ad7e91d500e"
      },
      "execution_count": null,
      "outputs": [
        {
          "output_type": "stream",
          "name": "stderr",
          "text": [
            "<ipython-input-38-e616e90676a5>:15: FutureWarning: The frame.append method is deprecated and will be removed from pandas in a future version. Use pandas.concat instead.\n",
            "  tabela_de_frequencias2 = tabela_de_frequencias.append({'Classes' : 'Total',\n",
            "<ipython-input-38-e616e90676a5>:24: FutureWarning: The frame.append method is deprecated and will be removed from pandas in a future version. Use pandas.concat instead.\n",
            "  tabela_de_frequencias2 = tabela_de_frequencias.append({\n"
          ]
        },
        {
          "output_type": "execute_result",
          "data": {
            "text/plain": [
              "<pandas.io.formats.style.Styler at 0x7fedb45a5a60>"
            ],
            "text/html": [
              "<style type=\"text/css\">\n",
              "</style>\n",
              "<table id=\"T_c385b\" class=\"dataframe\">\n",
              "  <caption>Distribuição de frequências em intervalos das notas dos filmes lançados até março de 2023, segundo o IMDB, do estúdio de filmes A24</caption>\n",
              "  <thead>\n",
              "    <tr>\n",
              "      <th class=\"blank level0\" >&nbsp;</th>\n",
              "      <th id=\"T_c385b_level0_col0\" class=\"col_heading level0 col0\" >Classes</th>\n",
              "      <th id=\"T_c385b_level0_col1\" class=\"col_heading level0 col1\" >Frequência</th>\n",
              "      <th id=\"T_c385b_level0_col2\" class=\"col_heading level0 col2\" >Freq. Acumulada</th>\n",
              "      <th id=\"T_c385b_level0_col3\" class=\"col_heading level0 col3\" >Freq. Relativa</th>\n",
              "      <th id=\"T_c385b_level0_col4\" class=\"col_heading level0 col4\" >Freq. Relativa %</th>\n",
              "      <th id=\"T_c385b_level0_col5\" class=\"col_heading level0 col5\" >Xm</th>\n",
              "      <th id=\"T_c385b_level0_col6\" class=\"col_heading level0 col6\" >Xm * f</th>\n",
              "    </tr>\n",
              "  </thead>\n",
              "  <tbody>\n",
              "    <tr>\n",
              "      <th id=\"T_c385b_level0_row0\" class=\"row_heading level0 row0\" >0</th>\n",
              "      <td id=\"T_c385b_row0_col0\" class=\"data row0 col0\" >[3.6, 4.06]</td>\n",
              "      <td id=\"T_c385b_row0_col1\" class=\"data row0 col1\" >1</td>\n",
              "      <td id=\"T_c385b_row0_col2\" class=\"data row0 col2\" >1</td>\n",
              "      <td id=\"T_c385b_row0_col3\" class=\"data row0 col3\" >0.007000</td>\n",
              "      <td id=\"T_c385b_row0_col4\" class=\"data row0 col4\" >0.700000</td>\n",
              "      <td id=\"T_c385b_row0_col5\" class=\"data row0 col5\" >3.830000</td>\n",
              "      <td id=\"T_c385b_row0_col6\" class=\"data row0 col6\" >3.830000</td>\n",
              "    </tr>\n",
              "    <tr>\n",
              "      <th id=\"T_c385b_level0_row1\" class=\"row_heading level0 row1\" >1</th>\n",
              "      <td id=\"T_c385b_row1_col0\" class=\"data row1 col0\" >[4.06, 4.52]</td>\n",
              "      <td id=\"T_c385b_row1_col1\" class=\"data row1 col1\" >1</td>\n",
              "      <td id=\"T_c385b_row1_col2\" class=\"data row1 col2\" >2</td>\n",
              "      <td id=\"T_c385b_row1_col3\" class=\"data row1 col3\" >0.007000</td>\n",
              "      <td id=\"T_c385b_row1_col4\" class=\"data row1 col4\" >0.700000</td>\n",
              "      <td id=\"T_c385b_row1_col5\" class=\"data row1 col5\" >4.290000</td>\n",
              "      <td id=\"T_c385b_row1_col6\" class=\"data row1 col6\" >4.290000</td>\n",
              "    </tr>\n",
              "    <tr>\n",
              "      <th id=\"T_c385b_level0_row2\" class=\"row_heading level0 row2\" >2</th>\n",
              "      <td id=\"T_c385b_row2_col0\" class=\"data row2 col0\" >[4.52, 4.98]</td>\n",
              "      <td id=\"T_c385b_row2_col1\" class=\"data row2 col1\" >3</td>\n",
              "      <td id=\"T_c385b_row2_col2\" class=\"data row2 col2\" >5</td>\n",
              "      <td id=\"T_c385b_row2_col3\" class=\"data row2 col3\" >0.021000</td>\n",
              "      <td id=\"T_c385b_row2_col4\" class=\"data row2 col4\" >2.100000</td>\n",
              "      <td id=\"T_c385b_row2_col5\" class=\"data row2 col5\" >4.750000</td>\n",
              "      <td id=\"T_c385b_row2_col6\" class=\"data row2 col6\" >14.250000</td>\n",
              "    </tr>\n",
              "    <tr>\n",
              "      <th id=\"T_c385b_level0_row3\" class=\"row_heading level0 row3\" >3</th>\n",
              "      <td id=\"T_c385b_row3_col0\" class=\"data row3 col0\" >[4.98, 5.44]</td>\n",
              "      <td id=\"T_c385b_row3_col1\" class=\"data row3 col1\" >8</td>\n",
              "      <td id=\"T_c385b_row3_col2\" class=\"data row3 col2\" >13</td>\n",
              "      <td id=\"T_c385b_row3_col3\" class=\"data row3 col3\" >0.056000</td>\n",
              "      <td id=\"T_c385b_row3_col4\" class=\"data row3 col4\" >5.600000</td>\n",
              "      <td id=\"T_c385b_row3_col5\" class=\"data row3 col5\" >5.210000</td>\n",
              "      <td id=\"T_c385b_row3_col6\" class=\"data row3 col6\" >41.680000</td>\n",
              "    </tr>\n",
              "    <tr>\n",
              "      <th id=\"T_c385b_level0_row4\" class=\"row_heading level0 row4\" >4</th>\n",
              "      <td id=\"T_c385b_row4_col0\" class=\"data row4 col0\" >[5.44, 5.9]</td>\n",
              "      <td id=\"T_c385b_row4_col1\" class=\"data row4 col1\" >14</td>\n",
              "      <td id=\"T_c385b_row4_col2\" class=\"data row4 col2\" >27</td>\n",
              "      <td id=\"T_c385b_row4_col3\" class=\"data row4 col3\" >0.098000</td>\n",
              "      <td id=\"T_c385b_row4_col4\" class=\"data row4 col4\" >9.800000</td>\n",
              "      <td id=\"T_c385b_row4_col5\" class=\"data row4 col5\" >5.670000</td>\n",
              "      <td id=\"T_c385b_row4_col6\" class=\"data row4 col6\" >79.380000</td>\n",
              "    </tr>\n",
              "    <tr>\n",
              "      <th id=\"T_c385b_level0_row5\" class=\"row_heading level0 row5\" >5</th>\n",
              "      <td id=\"T_c385b_row5_col0\" class=\"data row5 col0\" >[5.9, 6.36]</td>\n",
              "      <td id=\"T_c385b_row5_col1\" class=\"data row5 col1\" >30</td>\n",
              "      <td id=\"T_c385b_row5_col2\" class=\"data row5 col2\" >57</td>\n",
              "      <td id=\"T_c385b_row5_col3\" class=\"data row5 col3\" >0.210000</td>\n",
              "      <td id=\"T_c385b_row5_col4\" class=\"data row5 col4\" >21.000000</td>\n",
              "      <td id=\"T_c385b_row5_col5\" class=\"data row5 col5\" >6.130000</td>\n",
              "      <td id=\"T_c385b_row5_col6\" class=\"data row5 col6\" >183.900000</td>\n",
              "    </tr>\n",
              "    <tr>\n",
              "      <th id=\"T_c385b_level0_row6\" class=\"row_heading level0 row6\" >6</th>\n",
              "      <td id=\"T_c385b_row6_col0\" class=\"data row6 col0\" >[6.36, 6.82]</td>\n",
              "      <td id=\"T_c385b_row6_col1\" class=\"data row6 col1\" >27</td>\n",
              "      <td id=\"T_c385b_row6_col2\" class=\"data row6 col2\" >84</td>\n",
              "      <td id=\"T_c385b_row6_col3\" class=\"data row6 col3\" >0.189000</td>\n",
              "      <td id=\"T_c385b_row6_col4\" class=\"data row6 col4\" >18.900000</td>\n",
              "      <td id=\"T_c385b_row6_col5\" class=\"data row6 col5\" >6.590000</td>\n",
              "      <td id=\"T_c385b_row6_col6\" class=\"data row6 col6\" >177.930000</td>\n",
              "    </tr>\n",
              "    <tr>\n",
              "      <th id=\"T_c385b_level0_row7\" class=\"row_heading level0 row7\" >7</th>\n",
              "      <td id=\"T_c385b_row7_col0\" class=\"data row7 col0\" >[6.82, 7.28]</td>\n",
              "      <td id=\"T_c385b_row7_col1\" class=\"data row7 col1\" >25</td>\n",
              "      <td id=\"T_c385b_row7_col2\" class=\"data row7 col2\" >109</td>\n",
              "      <td id=\"T_c385b_row7_col3\" class=\"data row7 col3\" >0.175000</td>\n",
              "      <td id=\"T_c385b_row7_col4\" class=\"data row7 col4\" >17.500000</td>\n",
              "      <td id=\"T_c385b_row7_col5\" class=\"data row7 col5\" >7.050000</td>\n",
              "      <td id=\"T_c385b_row7_col6\" class=\"data row7 col6\" >176.250000</td>\n",
              "    </tr>\n",
              "    <tr>\n",
              "      <th id=\"T_c385b_level0_row8\" class=\"row_heading level0 row8\" >8</th>\n",
              "      <td id=\"T_c385b_row8_col0\" class=\"data row8 col0\" >[7.28, 7.74]</td>\n",
              "      <td id=\"T_c385b_row8_col1\" class=\"data row8 col1\" >24</td>\n",
              "      <td id=\"T_c385b_row8_col2\" class=\"data row8 col2\" >133</td>\n",
              "      <td id=\"T_c385b_row8_col3\" class=\"data row8 col3\" >0.168000</td>\n",
              "      <td id=\"T_c385b_row8_col4\" class=\"data row8 col4\" >16.800000</td>\n",
              "      <td id=\"T_c385b_row8_col5\" class=\"data row8 col5\" >7.510000</td>\n",
              "      <td id=\"T_c385b_row8_col6\" class=\"data row8 col6\" >180.240000</td>\n",
              "    </tr>\n",
              "    <tr>\n",
              "      <th id=\"T_c385b_level0_row9\" class=\"row_heading level0 row9\" >9</th>\n",
              "      <td id=\"T_c385b_row9_col0\" class=\"data row9 col0\" >[7.74, 8.2]</td>\n",
              "      <td id=\"T_c385b_row9_col1\" class=\"data row9 col1\" >10</td>\n",
              "      <td id=\"T_c385b_row9_col2\" class=\"data row9 col2\" >143</td>\n",
              "      <td id=\"T_c385b_row9_col3\" class=\"data row9 col3\" >0.070000</td>\n",
              "      <td id=\"T_c385b_row9_col4\" class=\"data row9 col4\" >7.000000</td>\n",
              "      <td id=\"T_c385b_row9_col5\" class=\"data row9 col5\" >7.970000</td>\n",
              "      <td id=\"T_c385b_row9_col6\" class=\"data row9 col6\" >79.700000</td>\n",
              "    </tr>\n",
              "    <tr>\n",
              "      <th id=\"T_c385b_level0_row10\" class=\"row_heading level0 row10\" >10</th>\n",
              "      <td id=\"T_c385b_row10_col0\" class=\"data row10 col0\" >Total</td>\n",
              "      <td id=\"T_c385b_row10_col1\" class=\"data row10 col1\" >143</td>\n",
              "      <td id=\"T_c385b_row10_col2\" class=\"data row10 col2\" >-</td>\n",
              "      <td id=\"T_c385b_row10_col3\" class=\"data row10 col3\" >1.001000</td>\n",
              "      <td id=\"T_c385b_row10_col4\" class=\"data row10 col4\" >100.100000</td>\n",
              "      <td id=\"T_c385b_row10_col5\" class=\"data row10 col5\" >-</td>\n",
              "      <td id=\"T_c385b_row10_col6\" class=\"data row10 col6\" >941.450000</td>\n",
              "    </tr>\n",
              "  </tbody>\n",
              "</table>\n"
            ]
          },
          "metadata": {},
          "execution_count": 38
        }
      ]
    },
    {
      "cell_type": "markdown",
      "source": [
        "# Criando as funções"
      ],
      "metadata": {
        "id": "QYCWUkbObxaY"
      }
    },
    {
      "cell_type": "code",
      "source": [
        "def calc_media(nome_data_frame, col_dados):\n",
        "  base_dados = pd.read_csv(nome_data_frame)\n",
        "  tam = len(base_dados[col_dados])\n",
        "  media = sum(base_dados[col_dados]) / tam\n",
        "  return round(media, 3)\n",
        "\n",
        "media = calc_media('/content/imdbdata.csv', 'notas')\n",
        "media"
      ],
      "metadata": {
        "id": "iUgo75ALsJKC",
        "colab": {
          "base_uri": "https://localhost:8080/"
        },
        "outputId": "75ece5bd-223e-4e30-f912-0ce7e1963dff"
      },
      "execution_count": null,
      "outputs": [
        {
          "output_type": "execute_result",
          "data": {
            "text/plain": [
              "6.581"
            ]
          },
          "metadata": {},
          "execution_count": 14
        }
      ]
    },
    {
      "cell_type": "code",
      "source": [
        "def calc_quartil(nome_data_frame, col_dados, n_quartil):\n",
        "  base_dados = pd.read_csv(nome_data_frame)\n",
        "  base_dados = base_dados.sort_values([col_dados], ascending=True)\n",
        "  tam_base = len(base_dados[col_dados])\n",
        "  tam_f = tam_base * n_quartil\n",
        "\n",
        "\n",
        "  if tam_base % 2 != 0:\n",
        "    ind_quartilx = int((tam_f + 1) / 4) - 1\n",
        "    quartilx = list(base_dados[col_dados])[ind_quartilx]\n",
        "\n",
        "  else:\n",
        "    ind_quatilx = [int((tam_f) / 4), int((tam_f) / 2) + 1]\n",
        "    quartilx = (list(base_dados[col_dados])[ind_quartilx[0]] + list(base_dados[col_dados])[ind_quartilx[1]]) / 2\n",
        "    quartil -= 1\n",
        "\n",
        "  return quartilx\n",
        "\n",
        "\n",
        "quartil1 = calc_quartil('/content/imdbdata.csv', 'notas', 1)\n",
        "mediana = calc_quartil('/content/imdbdata.csv', 'notas', 2)\n",
        "quartil3 = calc_quartil('/content/imdbdata.csv', 'notas', 3)\n",
        "\n",
        "print(quartil1)\n",
        "print(mediana)\n",
        "print(quartil3)"
      ],
      "metadata": {
        "colab": {
          "base_uri": "https://localhost:8080/"
        },
        "id": "Dnvdmrk_MIbc",
        "outputId": "fef3fa6d-b31d-4fce-b1a9-7992c3b19af9"
      },
      "execution_count": null,
      "outputs": [
        {
          "output_type": "stream",
          "name": "stdout",
          "text": [
            "6.1\n",
            "6.6\n",
            "7.2\n"
          ]
        }
      ]
    },
    {
      "cell_type": "code",
      "source": [
        "def calc_moda(nome_data_frame, col_dados):\n",
        "  base_dados = pd.read_csv(nome_data_frame)\n",
        "  moda = (base_dados[col_dados].value_counts().keys())[0]\n",
        "\n",
        "  return moda\n",
        "\n",
        "moda = calc_moda('/content/imdbdata.csv', 'notas')\n",
        "moda"
      ],
      "metadata": {
        "id": "KY6ObY9RC3k6",
        "colab": {
          "base_uri": "https://localhost:8080/"
        },
        "outputId": "10128cb7-b826-4c5e-c768-b98151aff5b6"
      },
      "execution_count": null,
      "outputs": [
        {
          "output_type": "execute_result",
          "data": {
            "text/plain": [
              "6.3"
            ]
          },
          "metadata": {},
          "execution_count": 16
        }
      ]
    },
    {
      "cell_type": "code",
      "source": [
        "def calc_variancia(tab_freq, col_freq, col_xm_med):\n",
        "  somatorio = sum(col_xm_med)\n",
        "  tam = sum(tab_freq[col_freq])\n",
        "  variancia = round(somatorio / tam, 3)\n",
        "  \n",
        "  return variancia\n",
        "\n",
        "variancia = calc_variancia(tabela_de_frequencias, 'Frequência', f_xm_media_2)\n",
        "variancia"
      ],
      "metadata": {
        "id": "ZuGbmtYZMzIp",
        "colab": {
          "base_uri": "https://localhost:8080/"
        },
        "outputId": "a40ac5d8-81a4-4302-9246-73235b540ed9"
      },
      "execution_count": null,
      "outputs": [
        {
          "output_type": "execute_result",
          "data": {
            "text/plain": [
              "0.707"
            ]
          },
          "metadata": {},
          "execution_count": 34
        }
      ]
    },
    {
      "cell_type": "code",
      "source": [
        "def calc_desvio_padrao(variancia):\n",
        "  dp = math.sqrt(variancia)\n",
        "  return round(dp, 3)\n",
        "\n",
        "desvio_padrao = calc_desvio_padrao(variancia)\n",
        "desvio_padrao"
      ],
      "metadata": {
        "id": "pO9kvGM0RlKg",
        "colab": {
          "base_uri": "https://localhost:8080/"
        },
        "outputId": "b7f13ee8-6a35-4e08-9ab3-8bd5d6a1dab1"
      },
      "execution_count": null,
      "outputs": [
        {
          "output_type": "execute_result",
          "data": {
            "text/plain": [
              "0.841"
            ]
          },
          "metadata": {},
          "execution_count": 35
        }
      ]
    },
    {
      "cell_type": "code",
      "source": [
        "def coeficiente_variacao(desvio_padrao, media):\n",
        "  cv = round((desvio_padrao / media) * 100, 3)\n",
        "  return cv\n",
        "\n",
        "coeficiente_variacao_n = coeficiente_variacao(desvio_padrao, media)\n",
        "coeficiente_variacao_n"
      ],
      "metadata": {
        "id": "QJnsaUEnSPME",
        "colab": {
          "base_uri": "https://localhost:8080/"
        },
        "outputId": "455e5c21-cdf6-41f2-f715-4b5b90f191c3"
      },
      "execution_count": null,
      "outputs": [
        {
          "output_type": "execute_result",
          "data": {
            "text/plain": [
              "12.779"
            ]
          },
          "metadata": {},
          "execution_count": 39
        }
      ]
    },
    {
      "cell_type": "markdown",
      "source": [
        "# Gráficos"
      ],
      "metadata": {
        "id": "r0ZuVZ7TsG4g"
      }
    },
    {
      "cell_type": "code",
      "source": [
        "sns.boxplot(data = base_filmes_ordenada, x=\"notas\", width=0.5).set_title('Diagrama de caixa das notas dos filmes lançados até março de 2023,\\n segundo o IMDB, do estúdio de filmes A24\\n', fontdict={'fontsize': 15})"
      ],
      "metadata": {
        "colab": {
          "base_uri": "https://localhost:8080/",
          "height": 351
        },
        "id": "z6JfFpSGSuTM",
        "outputId": "645c248e-f5b6-4ef5-9e86-468e57b234b8"
      },
      "execution_count": null,
      "outputs": [
        {
          "output_type": "execute_result",
          "data": {
            "text/plain": [
              "Text(0.5, 1.0, 'Diagrama de caixa das notas dos filmes lançados até março de 2023,\\n segundo o IMDB, do estúdio de filmes A24\\n')"
            ]
          },
          "metadata": {},
          "execution_count": 20
        },
        {
          "output_type": "display_data",
          "data": {
            "text/plain": [
              "<Figure size 432x288 with 1 Axes>"
            ],
            "image/png": "[encoded data removed]"
          },
          "metadata": {
            "needs_background": "light"
          }
        }
      ]
    },
    {
      "cell_type": "code",
      "source": [
        "sns.histplot(base_filmes_ordenada['notas'], bins = 10, kde=True, stat='frequency').set(title='Histograma das notas dos filmes lançados até março de 2023,\\n segundo o IMDB, do estúdio de filmes A24\\n')"
      ],
      "metadata": {
        "id": "2Uk1uS_eWtZ-",
        "colab": {
          "base_uri": "https://localhost:8080/",
          "height": 342
        },
        "outputId": "6e158d48-c090-4aca-aaac-5d3daba79c15"
      },
      "execution_count": null,
      "outputs": [
        {
          "output_type": "execute_result",
          "data": {
            "text/plain": [
              "[Text(0.5, 1.0, 'Histograma das notas dos filmes lançados até março de 2023,\\n segundo o IMDB, do estúdio de filmes A24\\n')]"
            ]
          },
          "metadata": {},
          "execution_count": 21
        },
        {
          "output_type": "display_data",
          "data": {
            "text/plain": [
              "<Figure size 432x288 with 1 Axes>"
            ],
            "image/png": "[encoded data removed]"
          },
          "metadata": {
            "needs_background": "light"
          }
        }
      ]
    }
  ]
}